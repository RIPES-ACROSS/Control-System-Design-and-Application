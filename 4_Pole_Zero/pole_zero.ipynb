{
 "cells": [
  {
   "cell_type": "markdown",
   "id": "7c1b6d30",
   "metadata": {},
   "source": [
    "# Pole and Zero\n",
    "\n",
    "[![Open In Colab](https://colab.research.google.com/assets/colab-badge.svg)](https://colab.research.google.com/github/RIPES-ACROSS/Control-System-Design-and-Application/blob/master/4_Pole_Zero/pole_zero.ipynb)"
   ]
  },
  {
   "cell_type": "markdown",
   "id": "3874e5e1",
   "metadata": {},
   "source": [
    "## 制御および代数計算モジュールのインストール\n",
    "\n",
    "- https://python-control.readthedocs.io/en/0.9.0/index.html\n",
    "- https://www.sympy.org/en/index.html"
   ]
  },
  {
   "cell_type": "code",
   "execution_count": 1,
   "id": "4cd92104",
   "metadata": {},
   "outputs": [
    {
     "name": "stdout",
     "output_type": "stream",
     "text": [
      "Requirement already satisfied: control in /opt/conda/lib/python3.8/site-packages (0.9.0)\n",
      "Requirement already satisfied: sympy in /opt/conda/lib/python3.8/site-packages (1.7.1)\n",
      "Requirement already satisfied: scipy in /opt/conda/lib/python3.8/site-packages (from control) (1.6.2)\n",
      "Requirement already satisfied: matplotlib in /opt/conda/lib/python3.8/site-packages (from control) (3.4.1)\n",
      "Requirement already satisfied: numpy in /opt/conda/lib/python3.8/site-packages (from control) (1.20.2)\n",
      "Requirement already satisfied: mpmath>=0.19 in /opt/conda/lib/python3.8/site-packages (from sympy) (1.2.1)\n",
      "Requirement already satisfied: kiwisolver>=1.0.1 in /opt/conda/lib/python3.8/site-packages (from matplotlib->control) (1.3.1)\n",
      "Requirement already satisfied: pyparsing>=2.2.1 in /opt/conda/lib/python3.8/site-packages (from matplotlib->control) (2.4.7)\n",
      "Requirement already satisfied: pillow>=6.2.0 in /opt/conda/lib/python3.8/site-packages (from matplotlib->control) (8.1.2)\n",
      "Requirement already satisfied: python-dateutil>=2.7 in /opt/conda/lib/python3.8/site-packages (from matplotlib->control) (2.8.1)\n",
      "Requirement already satisfied: cycler>=0.10 in /opt/conda/lib/python3.8/site-packages (from matplotlib->control) (0.10.0)\n",
      "Requirement already satisfied: six in /opt/conda/lib/python3.8/site-packages (from cycler>=0.10->matplotlib->control) (1.15.0)\n"
     ]
    }
   ],
   "source": [
    "!pip install control sympy"
   ]
  },
  {
   "cell_type": "markdown",
   "id": "b9dd12ea",
   "metadata": {},
   "source": [
    "## モジュールの読込"
   ]
  },
  {
   "cell_type": "code",
   "execution_count": 2,
   "id": "26beb9ca",
   "metadata": {},
   "outputs": [],
   "source": [
    "from pylab import *\n",
    "import control.matlab as matlab\n",
    "import sympy\n",
    "import math\n",
    "import numpy as np\n",
    "\n",
    "import matplotlib.pyplot as plt\n",
    "%matplotlib inline"
   ]
  },
  {
   "cell_type": "markdown",
   "id": "2a662989",
   "metadata": {},
   "source": [
    "##　本日対象とするモデル\n",
    "\n",
    "\\begin{align}\n",
    "sys1 = \\frac{700}{(s+15)(s^2+4s+100)}\\\\\n",
    "sys2 = \\frac{360}{(s+4)(s^2+2s+90)}\n",
    "\\end{align}\n",
    "\n",
    "課題:上記システムの分母多項式を$s$について解き，極を図示せよ．"
   ]
  },
  {
   "cell_type": "markdown",
   "id": "434770e6",
   "metadata": {},
   "source": [
    "## Controlモジュールによるsの解き方と図示"
   ]
  },
  {
   "cell_type": "code",
   "execution_count": 3,
   "id": "b09aa0df",
   "metadata": {},
   "outputs": [],
   "source": [
    "s_matlab = matlab.TransferFunction.s"
   ]
  },
  {
   "cell_type": "code",
   "execution_count": 4,
   "id": "57802074",
   "metadata": {},
   "outputs": [],
   "source": [
    "sys_matlab_list = []\n",
    "sys_matlab_list.append(700/((s_matlab+15)*(s_matlab**2 + 4*s_matlab + 100)))\n",
    "sys_matlab_list.append(360/((s_matlab+4)*(s_matlab**2 + 2*s_matlab + 90)))"
   ]
  },
  {
   "cell_type": "code",
   "execution_count": 5,
   "id": "57fd2aa7",
   "metadata": {},
   "outputs": [
    {
     "data": {
      "text/latex": [
       "$$\\frac{700}{s^3 + 19 s^2 + 160 s + 1500}$$"
      ],
      "text/plain": [
       "TransferFunction(array([700]), array([   1,   19,  160, 1500]))"
      ]
     },
     "metadata": {},
     "output_type": "display_data"
    },
    {
     "data": {
      "text/plain": [
       "array([-15.+0.j        ,  -2.+9.79795897j,  -2.-9.79795897j])"
      ]
     },
     "metadata": {},
     "output_type": "display_data"
    },
    {
     "data": {
      "text/plain": [
       "array([], dtype=float64)"
      ]
     },
     "metadata": {},
     "output_type": "display_data"
    },
    {
     "data": {
      "image/png": "[encoded data removed]",
      "text/plain": [
       "<Figure size 432x288 with 1 Axes>"
      ]
     },
     "metadata": {
      "needs_background": "light"
     },
     "output_type": "display_data"
    },
    {
     "data": {
      "text/latex": [
       "$$\\frac{360}{s^3 + 6 s^2 + 98 s + 360}$$"
      ],
      "text/plain": [
       "TransferFunction(array([360]), array([  1,   6,  98, 360]))"
      ]
     },
     "metadata": {},
     "output_type": "display_data"
    },
    {
     "data": {
      "text/plain": [
       "array([-1.+9.43398113j, -1.-9.43398113j, -4.+0.j        ])"
      ]
     },
     "metadata": {},
     "output_type": "display_data"
    },
    {
     "data": {
      "text/plain": [
       "array([], dtype=float64)"
      ]
     },
     "metadata": {},
     "output_type": "display_data"
    },
    {
     "data": {
      "image/png": "[encoded data removed]",
      "text/plain": [
       "<Figure size 432x288 with 1 Axes>"
      ]
     },
     "metadata": {
      "needs_background": "light"
     },
     "output_type": "display_data"
    }
   ],
   "source": [
    "for sys in sys_matlab_list:\n",
    "    display(sys)\n",
    "    display(matlab.pole(sys), matlab.zero(sys))\n",
    "    matlab.pzmap(sys)\n",
    "    plt.show()"
   ]
  },
  {
   "cell_type": "markdown",
   "id": "7892d6f8",
   "metadata": {},
   "source": [
    "### Matplotlibを用いて異なるシステムの極を重ねて表示する"
   ]
  },
  {
   "cell_type": "code",
   "execution_count": 6,
   "id": "0619ea42",
   "metadata": {},
   "outputs": [
    {
     "data": {
      "image/png": "[encoded data removed]",
      "text/plain": [
       "<Figure size 432x360 with 1 Axes>"
      ]
     },
     "metadata": {
      "needs_background": "light"
     },
     "output_type": "display_data"
    }
   ],
   "source": [
    "fig = plt.figure(figsize=(6,5))\n",
    "ax = fig.add_subplot(1, 1, 1)\n",
    "\n",
    "plt.plot(np.arange(-20, 20), [0]*len(np.arange(-20, 20)), color='gray')\n",
    "plt.plot([0]*len(np.arange(-20, 20)), np.arange(-20, 20), color='gray')\n",
    "\n",
    "for i, sys in enumerate(sys_matlab_list):\n",
    "    plt.scatter(matlab.pole(sys).real, matlab.pole(sys).imag, \n",
    "                marker='x', s=300, label=f'System {i+1}')\n",
    "plt.xlabel('Re')\n",
    "plt.ylabel('Im')\n",
    "plt.xlim(-20, 5)\n",
    "plt.ylim(10, -10)\n",
    "plt.legend()\n",
    "plt.grid()\n",
    "plt.show()"
   ]
  },
  {
   "cell_type": "markdown",
   "id": "096782e9",
   "metadata": {},
   "source": [
    "### ステップ応答の可視化"
   ]
  },
  {
   "cell_type": "code",
   "execution_count": 7,
   "id": "7ebba568",
   "metadata": {},
   "outputs": [
    {
     "data": {
      "image/png": "[encoded data removed]",
      "text/plain": [
       "<Figure size 432x360 with 1 Axes>"
      ]
     },
     "metadata": {
      "needs_background": "light"
     },
     "output_type": "display_data"
    }
   ],
   "source": [
    "TIME_MAX = 6\n",
    "\n",
    "fig = plt.figure(figsize=(6,5))\n",
    "ax = fig.add_subplot(1, 1, 1)\n",
    "plt.plot(list(np.arange(-10, 0+1))+list(np.arange(1, 10+1)), \n",
    "         [0]*len(np.arange(-10, 0+1))+[1]*len(np.arange(1, 10+1)), \n",
    "         '-.', color='gray', drawstyle='steps-pre', label='Step input')\n",
    "for i, sys in enumerate(sys_matlab_list):\n",
    "    output, time_list = matlab.step(sys, arange(0, TIME_MAX, 0.1))\n",
    "    \n",
    "    plt.plot(time_list, output, '--',\n",
    "             label=f'System {i+1}')\n",
    "\n",
    "plt.xlim(-1, TIME_MAX)\n",
    "plt.ylim(-0.2, 1.2)\n",
    "plt.xlabel('Time  second')\n",
    "plt.ylabel('Response  p.u.')\n",
    "plt.grid()\n",
    "plt.legend(framealpha=0.1)\n",
    "plt.show()"
   ]
  },
  {
   "cell_type": "code",
   "execution_count": 8,
   "id": "dc36ce0c",
   "metadata": {},
   "outputs": [
    {
     "data": {
      "text/plain": [
       "[0, 0, 0, 0, 0, 0, 0, 0, 0, 0, 1, 1, 1, 1, 1, 1, 1, 1, 1, 1]"
      ]
     },
     "execution_count": 8,
     "metadata": {},
     "output_type": "execute_result"
    }
   ],
   "source": [
    "[0]*len(np.arange(-10, 0))+[1]*len(np.arange(0, 10))"
   ]
  },
  {
   "cell_type": "markdown",
   "id": "e0fc15ed",
   "metadata": {},
   "source": [
    "## Sympyモジュールによる分母多項式のsについて解き方"
   ]
  },
  {
   "cell_type": "code",
   "execution_count": 9,
   "id": "68bb2301",
   "metadata": {},
   "outputs": [],
   "source": [
    "s_sympy = sympy.Symbol('s')"
   ]
  },
  {
   "cell_type": "code",
   "execution_count": 10,
   "id": "65badbb4",
   "metadata": {},
   "outputs": [],
   "source": [
    "eq_sympy_list = []\n",
    "eq_sympy_list.append((s_sympy+15)*(s_sympy**2 + 4*s_sympy + 100))\n",
    "eq_sympy_list.append((s_sympy+4)*(s_sympy**2 + 2*s_sympy + 90))"
   ]
  },
  {
   "cell_type": "code",
   "execution_count": 11,
   "id": "1ba5e346",
   "metadata": {},
   "outputs": [
    {
     "data": {
      "text/latex": [
       "$\\displaystyle \\left(s + 15\\right) \\left(s^{2} + 4 s + 100\\right) = 0$"
      ],
      "text/plain": [
       "Eq((s + 15)*(s**2 + 4*s + 100), 0)"
      ]
     },
     "execution_count": 11,
     "metadata": {},
     "output_type": "execute_result"
    }
   ],
   "source": [
    "sympy.Eq((s_sympy+15)*(s_sympy**2 + 4*s_sympy + 100), 0)"
   ]
  },
  {
   "cell_type": "code",
   "execution_count": 12,
   "id": "ec64c5c1",
   "metadata": {},
   "outputs": [
    {
     "data": {
      "text/latex": [
       "$\\displaystyle \\left(s + 15\\right) \\left(s^{2} + 4 s + 100\\right)$"
      ],
      "text/plain": [
       "(s + 15)*(s**2 + 4*s + 100)"
      ]
     },
     "metadata": {},
     "output_type": "display_data"
    },
    {
     "data": {
      "text/plain": [
       "[-15, -2 - 4*sqrt(6)*I, -2 + 4*sqrt(6)*I]"
      ]
     },
     "metadata": {},
     "output_type": "display_data"
    },
    {
     "data": {
      "text/latex": [
       "$\\displaystyle \\left(s + 4\\right) \\left(s^{2} + 2 s + 90\\right)$"
      ],
      "text/plain": [
       "(s + 4)*(s**2 + 2*s + 90)"
      ]
     },
     "metadata": {},
     "output_type": "display_data"
    },
    {
     "data": {
      "text/plain": [
       "[-4, -1 - sqrt(89)*I, -1 + sqrt(89)*I]"
      ]
     },
     "metadata": {},
     "output_type": "display_data"
    }
   ],
   "source": [
    "for eq in eq_sympy_list:\n",
    "    display(eq)\n",
    "    s_ans = sympy.solve(eq, s_sympy)\n",
    "    display(s_ans)"
   ]
  },
  {
   "cell_type": "markdown",
   "id": "f673f7f3",
   "metadata": {},
   "source": [
    "### 平方根の中身を計算しておく"
   ]
  },
  {
   "cell_type": "code",
   "execution_count": 13,
   "id": "a24dc3ad",
   "metadata": {},
   "outputs": [
    {
     "data": {
      "text/plain": [
       "(9.797958971132712, 9.433981132056603)"
      ]
     },
     "execution_count": 13,
     "metadata": {},
     "output_type": "execute_result"
    }
   ],
   "source": [
    "4.0*math.sqrt(6), math.sqrt(89)"
   ]
  },
  {
   "cell_type": "markdown",
   "id": "274af96d",
   "metadata": {},
   "source": [
    "Sympyを用いる場合の注意: 分子多項式にsが存在する場合は，「分子多項式=0」も立式する必要がある．"
   ]
  },
  {
   "cell_type": "code",
   "execution_count": null,
   "id": "40686efb",
   "metadata": {},
   "outputs": [],
   "source": []
  }
 ],
 "metadata": {
  "kernelspec": {
   "display_name": "Python 3",
   "language": "python",
   "name": "python3"
  },
  "language_info": {
   "codemirror_mode": {
    "name": "ipython",
    "version": 3
   },
   "file_extension": ".py",
   "mimetype": "text/x-python",
   "name": "python",
   "nbconvert_exporter": "python",
   "pygments_lexer": "ipython3",
   "version": "3.8.8"
  }
 },
 "nbformat": 4,
 "nbformat_minor": 5
}
