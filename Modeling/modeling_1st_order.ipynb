{
 "cells": [
  {
   "cell_type": "markdown",
   "id": "bfc41243",
   "metadata": {},
   "source": [
    "# 1st order modeling\n",
    "\n",
    "Google cola環境で簡単に実行したい場合は，以下をクリックあるいはドラッグしてブラウザのタブへ移動する\n",
    "\n",
    "[![Open In Colab](https://colab.research.google.com/assets/colab-badge.svg)](https://colab.research.google.com/github/RIPES-ACROSS/Control-System-Design-and-Application/blob/master/Modeling/modeling_1st_order.ipynb)"
   ]
  },
  {
   "cell_type": "markdown",
   "id": "7837b7fb",
   "metadata": {},
   "source": [
    "## 代数計算モジュールのインストール"
   ]
  },
  {
   "cell_type": "code",
   "execution_count": 1,
   "id": "2c9d154a",
   "metadata": {},
   "outputs": [
    {
     "name": "stdout",
     "output_type": "stream",
     "text": [
      "Requirement already satisfied: sympy in /opt/conda/lib/python3.8/site-packages (1.7.1)\n",
      "Requirement already satisfied: mpmath>=0.19 in /opt/conda/lib/python3.8/site-packages (from sympy) (1.2.1)\n"
     ]
    }
   ],
   "source": [
    "!pip install sympy"
   ]
  },
  {
   "cell_type": "markdown",
   "id": "8d5fe6a8",
   "metadata": {},
   "source": [
    "## モジュールの読込み"
   ]
  },
  {
   "cell_type": "code",
   "execution_count": 2,
   "id": "3569c16f",
   "metadata": {},
   "outputs": [],
   "source": [
    "import sys\n",
    "import numpy as np\n",
    "import matplotlib.pyplot as plt\n",
    "%matplotlib inline\n",
    "\n",
    "import sympy as sy\n",
    "sy.init_printing()"
   ]
  },
  {
   "cell_type": "markdown",
   "id": "2860195a",
   "metadata": {},
   "source": [
    "## 変数の定義"
   ]
  },
  {
   "cell_type": "code",
   "execution_count": 3,
   "id": "faad697f",
   "metadata": {},
   "outputs": [],
   "source": [
    "s = sy.Symbol('s')\n",
    "t = sy.Symbol('t', real=True)\n",
    "C, R, v_i, v_o = sy.symbols('C R v_i v_o', positive=True)"
   ]
  },
  {
   "cell_type": "markdown",
   "id": "09a1d0f2",
   "metadata": {},
   "source": [
    "## 式の定義"
   ]
  },
  {
   "cell_type": "code",
   "execution_count": 4,
   "id": "d85c099e",
   "metadata": {},
   "outputs": [],
   "source": [
    "tf_dict = {\n",
    "    'step': 1/s,\n",
    "    'plant':1/(C*R*s+1)\n",
    "}"
   ]
  },
  {
   "cell_type": "markdown",
   "id": "28c44e82",
   "metadata": {},
   "source": [
    "## 逆ラプラス変換"
   ]
  },
  {
   "cell_type": "code",
   "execution_count": 5,
   "id": "d93ebdd9",
   "metadata": {},
   "outputs": [
    {
     "name": "stdout",
     "output_type": "stream",
     "text": [
      "Processing ... step\n"
     ]
    },
    {
     "name": "stderr",
     "output_type": "stream",
     "text": [
      "/opt/conda/lib/python3.8/site-packages/sympy/core/function.py:1987: SymPyDeprecationWarning: \n",
      "\n",
      "non tuple iterable of argument symbols to Lambda has been deprecated\n",
      "since SymPy 1.5. Use tuple of argument symbols instead. See\n",
      "https://github.com/sympy/sympy/issues/17474 for more info.\n",
      "\n",
      "  SymPyDeprecationWarning(\n"
     ]
    },
    {
     "name": "stdout",
     "output_type": "stream",
     "text": [
      "Processing ... plant\n"
     ]
    }
   ],
   "source": [
    "res_dict = {}\n",
    "t_dict = {}\n",
    "for key, value in tf_dict.items():\n",
    "    print('Processing ... {}'.format(key))\n",
    "    var_list = [t]\n",
    "    if key in ['step']:\n",
    "        res_dict[key] = sy.inverse_laplace_transform(tf_dict[key], s, t, )\n",
    "        t_dict[key] = sy.Lambda(var_list, res_dict[key])\n",
    "        continue\n",
    "    elif key in ['plant']:\n",
    "        var_list.append(C)\n",
    "        var_list.append(R)\n",
    "    else:\n",
    "        sys.exit('ERROR: something worng {}'.format(key))\n",
    "    res_dict[key] = sy.inverse_laplace_transform(tf_dict[key]*tf_dict['step'], s, t, plane=0)\n",
    "    t_dict[key] = sy.Lambda(var_list, res_dict[key])"
   ]
  },
  {
   "cell_type": "markdown",
   "id": "aa33a518",
   "metadata": {},
   "source": [
    "## S領域・t領域それぞれにおける関数形"
   ]
  },
  {
   "cell_type": "code",
   "execution_count": 6,
   "id": "5faf948f",
   "metadata": {},
   "outputs": [
    {
     "name": "stdout",
     "output_type": "stream",
     "text": [
      "step\n"
     ]
    },
    {
     "data": {
      "image/png": "[encoded data removed]",
      "text/latex": [
       "$\\displaystyle \\frac{1}{s}$"
      ],
      "text/plain": [
       "1\n",
       "─\n",
       "s"
      ]
     },
     "metadata": {},
     "output_type": "display_data"
    },
    {
     "data": {
      "image/png": "[encoded data removed]",
      "text/latex": [
       "$\\displaystyle \\left( t \\mapsto \\theta\\left(t\\right) \\right)$"
      ],
      "text/plain": [
       "t ↦ θ(t)"
      ]
     },
     "metadata": {},
     "output_type": "display_data"
    },
    {
     "name": "stdout",
     "output_type": "stream",
     "text": [
      "plant\n"
     ]
    },
    {
     "data": {
      "image/png": "[encoded data removed]",
      "text/latex": [
       "$\\displaystyle \\frac{1}{C R s + 1}$"
      ],
      "text/plain": [
       "    1    \n",
       "─────────\n",
       "C⋅R⋅s + 1"
      ]
     },
     "metadata": {},
     "output_type": "display_data"
    },
    {
     "data": {
      "image/png": "[encoded data removed]",
      "text/latex": [
       "$\\displaystyle \\left( \\left( t, \\  C, \\  R\\right) \\mapsto \\theta\\left(t\\right) - e^{- \\frac{t}{C R}} \\theta\\left(t\\right) \\right)$"
      ],
      "text/plain": [
       "                    -t      \n",
       "                    ───     \n",
       "                    C⋅R     \n",
       "(t, C, R) ↦ θ(t) - ℯ   ⋅θ(t)"
      ]
     },
     "metadata": {},
     "output_type": "display_data"
    }
   ],
   "source": [
    "for key, value in tf_dict.items():\n",
    "    print(key)\n",
    "    display(value)\n",
    "    display(t_dict[key])"
   ]
  },
  {
   "cell_type": "markdown",
   "id": "c03b3aec",
   "metadata": {},
   "source": [
    "## システム状態の時間発展"
   ]
  },
  {
   "cell_type": "code",
   "execution_count": 7,
   "id": "9e4a5bd5",
   "metadata": {},
   "outputs": [
    {
     "data": {
      "image/png": "[encoded data removed]",
      "text/plain": [
       "<Figure size 432x288 with 1 Axes>"
      ]
     },
     "metadata": {
      "needs_background": "light"
     },
     "output_type": "display_data"
    }
   ],
   "source": [
    "param_tuple_list = [ # (C, R)\n",
    "    (1.0, 1.0), \n",
    "    (2.0, 1.0), \n",
    "    (3.0, 1.0), \n",
    "]\n",
    "\n",
    "T_MIN = -5\n",
    "T_MAX = 30\n",
    "trange = np.linspace(T_MIN, T_MAX, 100)\n",
    "plt.plot(trange, \n",
    "         [t_dict['step'](tt).evalf(chop=True)\n",
    "          for tt in trange], \n",
    "         label = 'Step', color='black')\n",
    "for i, param_tuple in enumerate(param_tuple_list):\n",
    "    plt.plot(trange, \n",
    "             [t_dict['plant'](tt, *param_tuple).evalf(chop=True)\n",
    "              for tt in trange], \n",
    "             label = '(C:{},R:{})'.format(*param_tuple))\n",
    "\n",
    "plt.xlabel('Time  second')\n",
    "plt.ylabel(r'$V_o$  V')\n",
    "plt.ylim(-0.25, 1.25)\n",
    "plt.xlim(T_MIN, T_MAX)\n",
    "plt.legend(loc='best', \n",
    "           borderaxespad=0, fontsize=10)\n",
    "plt.grid()\n",
    "plt.savefig('./modeling_1st_order.png', dpi=300, bbox_inches='tight')\n",
    "plt.show()"
   ]
  },
  {
   "cell_type": "code",
   "execution_count": null,
   "id": "5778a33b",
   "metadata": {},
   "outputs": [],
   "source": []
  }
 ],
 "metadata": {
  "kernelspec": {
   "display_name": "Python 3",
   "language": "python",
   "name": "python3"
  },
  "language_info": {
   "codemirror_mode": {
    "name": "ipython",
    "version": 3
   },
   "file_extension": ".py",
   "mimetype": "text/x-python",
   "name": "python",
   "nbconvert_exporter": "python",
   "pygments_lexer": "ipython3",
   "version": "3.8.8"
  }
 },
 "nbformat": 4,
 "nbformat_minor": 5
}
