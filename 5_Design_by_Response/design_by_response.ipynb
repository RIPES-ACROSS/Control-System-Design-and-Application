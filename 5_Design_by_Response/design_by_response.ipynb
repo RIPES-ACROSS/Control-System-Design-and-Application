{
 "cells": [
  {
   "cell_type": "markdown",
   "id": "44e8ab97",
   "metadata": {},
   "source": [
    "# 応答による設計\n",
    "\n",
    "[![Open In Colab](https://colab.research.google.com/assets/colab-badge.svg)](https://colab.research.google.com/github/RIPES-ACROSS/Control-System-Design-and-Application/blob/master/5_Design_by_Response/design_by_response.ipynb)"
   ]
  },
  {
   "cell_type": "markdown",
   "id": "05a188f3",
   "metadata": {},
   "source": [
    "## 制御モジュールのインストール\n",
    "\n",
    "- https://python-control.readthedocs.io/en/0.9.0/index.html"
   ]
  },
  {
   "cell_type": "code",
   "execution_count": 1,
   "id": "04ea9bb2",
   "metadata": {},
   "outputs": [
    {
     "name": "stdout",
     "output_type": "stream",
     "text": [
      "Requirement already satisfied: control in /opt/conda/lib/python3.8/site-packages (0.9.0)\n",
      "Requirement already satisfied: numpy in /opt/conda/lib/python3.8/site-packages (from control) (1.20.2)\n",
      "Requirement already satisfied: matplotlib in /opt/conda/lib/python3.8/site-packages (from control) (3.4.1)\n",
      "Requirement already satisfied: scipy in /opt/conda/lib/python3.8/site-packages (from control) (1.6.2)\n",
      "Requirement already satisfied: kiwisolver>=1.0.1 in /opt/conda/lib/python3.8/site-packages (from matplotlib->control) (1.3.1)\n",
      "Requirement already satisfied: cycler>=0.10 in /opt/conda/lib/python3.8/site-packages (from matplotlib->control) (0.10.0)\n",
      "Requirement already satisfied: pyparsing>=2.2.1 in /opt/conda/lib/python3.8/site-packages (from matplotlib->control) (2.4.7)\n",
      "Requirement already satisfied: python-dateutil>=2.7 in /opt/conda/lib/python3.8/site-packages (from matplotlib->control) (2.8.1)\n",
      "Requirement already satisfied: pillow>=6.2.0 in /opt/conda/lib/python3.8/site-packages (from matplotlib->control) (8.1.2)\n",
      "Requirement already satisfied: six in /opt/conda/lib/python3.8/site-packages (from cycler>=0.10->matplotlib->control) (1.15.0)\n"
     ]
    }
   ],
   "source": [
    "!pip install control"
   ]
  },
  {
   "cell_type": "markdown",
   "id": "fbe3bfcc",
   "metadata": {},
   "source": [
    "## モジュールの読込"
   ]
  },
  {
   "cell_type": "code",
   "execution_count": 2,
   "id": "ffb3d5ab",
   "metadata": {},
   "outputs": [],
   "source": [
    "from pylab import *\n",
    "import control.matlab as matlab\n",
    "import math\n",
    "import numpy as np\n",
    "\n",
    "import matplotlib.pyplot as plt\n",
    "%matplotlib inline"
   ]
  },
  {
   "cell_type": "markdown",
   "id": "a320568b",
   "metadata": {},
   "source": [
    "## 残差を用いた極-零 約分の評価\n",
    "\n",
    "\\begin{align}\n",
    "C_1(s) = \\frac{26.25(s+4)}{(s+3.5)(s+5)(s+6)}\\\\\n",
    "C_2(s) = \\frac{26.25(s+4)}{(s+4.01)(s+5)(s+6)}\n",
    "\\end{align}"
   ]
  },
  {
   "cell_type": "code",
   "execution_count": 3,
   "id": "1940129f",
   "metadata": {},
   "outputs": [],
   "source": [
    "s = matlab.TransferFunction.s\n",
    "sys_list = []\n",
    "sys_list.append(26.25*(s+4)/((s+3.5)*(s+5)*(s+6)))\n",
    "sys_list.append(26.25*(s+4)/((s+4.01)*(s+5)*(s+6)))"
   ]
  },
  {
   "cell_type": "markdown",
   "id": "e3d1c7bd",
   "metadata": {},
   "source": [
    "### 極・零"
   ]
  },
  {
   "cell_type": "code",
   "execution_count": 4,
   "id": "e9abc799",
   "metadata": {},
   "outputs": [
    {
     "data": {
      "text/latex": [
       "$$\\frac{26.25 s + 105}{s^3 + 14.5 s^2 + 68.5 s + 105}$$"
      ],
      "text/plain": [
       "TransferFunction(array([ 26.25, 105.  ]), array([  1. ,  14.5,  68.5, 105. ]))"
      ]
     },
     "metadata": {},
     "output_type": "display_data"
    },
    {
     "data": {
      "text/plain": [
       "array([-6. , -5. , -3.5])"
      ]
     },
     "metadata": {},
     "output_type": "display_data"
    },
    {
     "data": {
      "text/plain": [
       "array([-4.])"
      ]
     },
     "metadata": {},
     "output_type": "display_data"
    },
    {
     "data": {
      "image/png": "[encoded data removed]",
      "text/plain": [
       "<Figure size 432x288 with 1 Axes>"
      ]
     },
     "metadata": {
      "needs_background": "light"
     },
     "output_type": "display_data"
    },
    {
     "data": {
      "text/latex": [
       "$$\\frac{26.25 s + 105}{s^3 + 15.01 s^2 + 74.11 s + 120.3}$$"
      ],
      "text/plain": [
       "TransferFunction(array([ 26.25, 105.  ]), array([  1.  ,  15.01,  74.11, 120.3 ]))"
      ]
     },
     "metadata": {},
     "output_type": "display_data"
    },
    {
     "data": {
      "text/plain": [
       "array([-6.  , -5.  , -4.01])"
      ]
     },
     "metadata": {},
     "output_type": "display_data"
    },
    {
     "data": {
      "text/plain": [
       "array([-4.])"
      ]
     },
     "metadata": {},
     "output_type": "display_data"
    },
    {
     "data": {
      "image/png": "[encoded data removed]",
      "text/plain": [
       "<Figure size 432x288 with 1 Axes>"
      ]
     },
     "metadata": {
      "needs_background": "light"
     },
     "output_type": "display_data"
    }
   ],
   "source": [
    "for sys in sys_list:\n",
    "    display(sys)\n",
    "    display(matlab.pole(sys), matlab.zero(sys))\n",
    "    matlab.pzmap(sys)\n",
    "    plt.show()"
   ]
  },
  {
   "cell_type": "markdown",
   "id": "93bcd5c1",
   "metadata": {},
   "source": [
    "極・零 約分後の伝達関数\n",
    "\\begin{align}\n",
    "C_3(s) = \\frac{26.25}{(s+5)(s+6)}\n",
    "\\end{align}"
   ]
  },
  {
   "cell_type": "code",
   "execution_count": 5,
   "id": "71e8f59a",
   "metadata": {},
   "outputs": [],
   "source": [
    "sys_list.append(26.25/((s+5)*(s+6)))"
   ]
  },
  {
   "cell_type": "markdown",
   "id": "ed0db2fa",
   "metadata": {},
   "source": [
    "### 応答"
   ]
  },
  {
   "cell_type": "code",
   "execution_count": 6,
   "id": "6b6cf19a",
   "metadata": {},
   "outputs": [
    {
     "data": {
      "image/png": "[encoded data removed]",
      "text/plain": [
       "<Figure size 432x360 with 1 Axes>"
      ]
     },
     "metadata": {
      "needs_background": "light"
     },
     "output_type": "display_data"
    }
   ],
   "source": [
    "TIME_MAX = 20\n",
    "\n",
    "fig = plt.figure(figsize=(6,5))\n",
    "ax = fig.add_subplot(1, 1, 1)\n",
    "plt.plot(list(np.arange(-10, 0+1))+list(np.arange(1, 10+1)), \n",
    "         [0]*len(np.arange(-10, 0+1))+[1]*len(np.arange(1, 10+1)), \n",
    "         '-.', color='gray', drawstyle='steps-pre', label='Step input')\n",
    "for i, sys in enumerate(sys_list):\n",
    "    output, time_list = matlab.step(sys, arange(0, TIME_MAX, 0.1))\n",
    "    \n",
    "    plt.plot(time_list, output, '--',\n",
    "             label=f'System {i+1}', linewidth=5.0/(i+1))\n",
    "    \n",
    "plt.xlim(-1, TIME_MAX)\n",
    "plt.ylim(-0.2, 1.2)\n",
    "plt.xlabel('Time  second')\n",
    "plt.ylabel('Response  p.u.')\n",
    "plt.grid()\n",
    "plt.legend(framealpha=0.1)\n",
    "plt.savefig('./approx_zero_polo_cancellation.png', dpi=300, bbox_inches='tight')\n",
    "plt.show()"
   ]
  },
  {
   "cell_type": "markdown",
   "id": "151268d0",
   "metadata": {},
   "source": [
    "## ピーク時間,オーバーシュート, 整定時間\n",
    "\n",
    "\\begin{align}\n",
    "G(s) = \\frac{361}{s^2+16s+361}\n",
    "\\end{align}"
   ]
  },
  {
   "cell_type": "code",
   "execution_count": 7,
   "id": "1363fee7",
   "metadata": {},
   "outputs": [],
   "source": [
    "G = 26.25*(s+4)/((s+3.5)*(s+5)*(s+6))"
   ]
  },
  {
   "cell_type": "code",
   "execution_count": 8,
   "id": "461c9a4e",
   "metadata": {},
   "outputs": [],
   "source": [
    "zeta = 0.421\n",
    "omega_n = 19"
   ]
  },
  {
   "cell_type": "markdown",
   "id": "30250bbc",
   "metadata": {},
   "source": [
    "### 減衰係数$\\zeta$-行き過ぎ量$\\%OS$の関係\n",
    "\n",
    "\\begin{align}\n",
    "\\%OS = exp(\\frac{-\\zeta\\pi}{\\sqrt{1-\\zeta^2}}) \\times 100\n",
    "\\end{align}"
   ]
  },
  {
   "cell_type": "code",
   "execution_count": 9,
   "id": "f18f4f32",
   "metadata": {},
   "outputs": [],
   "source": [
    "zeta_list = np.arange(0, 1, 0.01)\n",
    "pOS_list = list(map(lambda z: math.exp(-z*math.pi/(math.sqrt(1-z*z)))*100, zeta_list))"
   ]
  },
  {
   "cell_type": "code",
   "execution_count": 10,
   "id": "37e01f2b",
   "metadata": {},
   "outputs": [
    {
     "data": {
      "image/png": "[encoded data removed]",
      "text/plain": [
       "<Figure size 432x360 with 1 Axes>"
      ]
     },
     "metadata": {
      "needs_background": "light"
     },
     "output_type": "display_data"
    }
   ],
   "source": [
    "fig = plt.figure(figsize=(6,5))\n",
    "ax = fig.add_subplot(1, 1, 1)\n",
    "plt.plot(zeta_list, pOS_list)\n",
    "plt.xlim(0, 0.9)\n",
    "plt.ylim(0, 100)\n",
    "plt.xlabel(r'Damping ratio  $\\zeta$')\n",
    "plt.ylabel(r'Percent overshoot  %OS')\n",
    "plt.grid()\n",
    "plt.show()"
   ]
  },
  {
   "cell_type": "code",
   "execution_count": 11,
   "id": "8a166894",
   "metadata": {},
   "outputs": [
    {
     "data": {
      "text/plain": [
       "(23.3, 0.5, 0.182)"
      ]
     },
     "execution_count": 11,
     "metadata": {},
     "output_type": "execute_result"
    }
   ],
   "source": [
    "T_s = 4/(zeta*omega_n)\n",
    "T_p = math.pi/(omega_n*math.sqrt(1-zeta*zeta))\n",
    "pOS = math.exp(-zeta*math.pi/(math.sqrt(1-zeta*zeta)))*100\n",
    "\n",
    "round(pOS, 1), round(T_s, 3), round(T_p, 3)"
   ]
  }
 ],
 "metadata": {
  "kernelspec": {
   "display_name": "Python 3",
   "language": "python",
   "name": "python3"
  },
  "language_info": {
   "codemirror_mode": {
    "name": "ipython",
    "version": 3
   },
   "file_extension": ".py",
   "mimetype": "text/x-python",
   "name": "python",
   "nbconvert_exporter": "python",
   "pygments_lexer": "ipython3",
   "version": "3.8.8"
  }
 },
 "nbformat": 4,
 "nbformat_minor": 5
}
