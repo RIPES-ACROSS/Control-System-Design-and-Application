{
 "cells": [
  {
   "cell_type": "markdown",
   "metadata": {},
   "source": [
    "# Introduction\n",
    "\n",
    "[![Open In Colab](https://colab.research.google.com/assets/colab-badge.svg)](https://colab.research.google.com/github/googlecolab/colabtools/blob/master/notebooks/colab-github-demo.ipynb)\n"
   ]
  },
  {
   "cell_type": "markdown",
   "metadata": {},
   "source": [
    "## Install control module"
   ]
  },
  {
   "cell_type": "code",
   "execution_count": 1,
   "metadata": {},
   "outputs": [
    {
     "name": "stdout",
     "output_type": "stream",
     "text": [
      "Collecting control\n",
      "  Downloading control-0.9.0.tar.gz (339 kB)\n",
      "\u001b[K     |████████████████████████████████| 339 kB 11.8 MB/s eta 0:00:01\n",
      "\u001b[?25hRequirement already satisfied: numpy in /home/yoshida/miniconda3/envs/py3.7/lib/python3.7/site-packages (from control) (1.19.4)\n",
      "Requirement already satisfied: scipy in /home/yoshida/miniconda3/envs/py3.7/lib/python3.7/site-packages (from control) (1.5.3)\n",
      "Requirement already satisfied: matplotlib in /home/yoshida/miniconda3/envs/py3.7/lib/python3.7/site-packages (from control) (3.3.3)\n",
      "Requirement already satisfied: pillow>=6.2.0 in /home/yoshida/miniconda3/envs/py3.7/lib/python3.7/site-packages (from matplotlib->control) (8.0.1)\n",
      "Requirement already satisfied: pyparsing!=2.0.4,!=2.1.2,!=2.1.6,>=2.0.3 in /home/yoshida/miniconda3/envs/py3.7/lib/python3.7/site-packages (from matplotlib->control) (2.4.7)\n",
      "Requirement already satisfied: cycler>=0.10 in /home/yoshida/miniconda3/envs/py3.7/lib/python3.7/site-packages (from matplotlib->control) (0.10.0)\n",
      "Requirement already satisfied: kiwisolver>=1.0.1 in /home/yoshida/miniconda3/envs/py3.7/lib/python3.7/site-packages (from matplotlib->control) (1.3.1)\n",
      "Requirement already satisfied: python-dateutil>=2.1 in /home/yoshida/miniconda3/envs/py3.7/lib/python3.7/site-packages (from matplotlib->control) (2.8.1)\n",
      "Requirement already satisfied: six in /home/yoshida/miniconda3/envs/py3.7/lib/python3.7/site-packages (from cycler>=0.10->matplotlib->control) (1.15.0)\n",
      "Building wheels for collected packages: control\n",
      "  Building wheel for control (setup.py) ... \u001b[?25ldone\n",
      "\u001b[?25h  Created wheel for control: filename=control-0.9.0-py2.py3-none-any.whl size=344920 sha256=525a5b36e24f8f0748dffb7d9e986194b67d13f749e7b9423605e9b9d3ad770d\n",
      "  Stored in directory: /home/yoshida/.cache/pip/wheels/5b/64/54/70faad181d7baff1184541ca00c9a2efa633acd0a811831d30\n",
      "Successfully built control\n",
      "Installing collected packages: control\n",
      "Successfully installed control-0.9.0\n"
     ]
    }
   ],
   "source": [
    "!pip install control"
   ]
  },
  {
   "cell_type": "markdown",
   "metadata": {},
   "source": [
    "## Import modules"
   ]
  },
  {
   "cell_type": "code",
   "execution_count": 2,
   "metadata": {},
   "outputs": [],
   "source": [
    "from pylab import *\n",
    "import control.matlab as matlab\n",
    "import matplotlib.pyplot as plt\n",
    "%matplotlib inline"
   ]
  },
  {
   "cell_type": "markdown",
   "metadata": {},
   "source": [
    "## Define parameters"
   ]
  },
  {
   "cell_type": "code",
   "execution_count": 3,
   "metadata": {},
   "outputs": [],
   "source": [
    "TIME_MAX = 10 # min\n",
    "\n",
    "V = 10\n",
    "n = 10\n",
    "K = 1000\n",
    "K_1 = 100\n",
    "a = 100\n",
    "R_a = 8\n",
    "J_a = 0.02\n",
    "D_a = 0.01\n",
    "K_b = 0.5\n",
    "K_t = 0.5\n",
    "N_1 = 25\n",
    "N_2 = 250\n",
    "N_3 = 250\n",
    "J_K = 1\n",
    "D_L = 1\n",
    "\n",
    "K_pot = 0.318\n",
    "K_m = 2.083\n",
    "a_m = 1.71\n",
    "K_g = 0.1"
   ]
  },
  {
   "cell_type": "markdown",
   "metadata": {},
   "source": [
    "## Made Transfer function of target system"
   ]
  },
  {
   "cell_type": "code",
   "execution_count": 4,
   "metadata": {},
   "outputs": [
    {
     "name": "stdout",
     "output_type": "stream",
     "text": [
      "\n",
      "       66.24\n",
      "--------------------\n",
      "s^2 + 1.71 s + 66.24\n",
      "\n"
     ]
    }
   ],
   "source": [
    "TF_Potentiometer = matlab.tf([K_pot],[1])\n",
    "TF_Preamplifer = matlab.tf([K],[1])\n",
    "TF_PowerAmplifier = matlab.tf([1], [1])\n",
    "TF_Moter = matlab.tf([K_m], [1, a_m, 0])\n",
    "TF_Gear = matlab.tf([K_g], [1])\n",
    "\n",
    "sysPI = TF_Potentiometer\\\n",
    "    *matlab.feedback(TF_Preamplifer*TF_PowerAmplifier*TF_Moter*TF_Gear, \n",
    "                     TF_Potentiometer)#If u can not make a closed loop tf, use it\n",
    "print(sysPI)"
   ]
  },
  {
   "cell_type": "markdown",
   "metadata": {},
   "source": [
    "## Visualize step response"
   ]
  },
  {
   "cell_type": "code",
   "execution_count": 5,
   "metadata": {},
   "outputs": [
    {
     "data": {
      "image/png": "[encoded data removed]",
      "text/plain": [
       "<Figure size 432x288 with 1 Axes>"
      ]
     },
     "metadata": {
      "needs_background": "light"
     },
     "output_type": "display_data"
    }
   ],
   "source": [
    "yout, trange = matlab.step(sysPI, arange(0, TIME_MAX, 0.1))\n",
    "plt.plot(trange, yout, 'r')\n",
    "\n",
    "plt.xlim([-2,TIME_MAX])\n",
    "plt.xlabel('Time')\n",
    "plt.ylabel('Response p.u.')\n",
    "plt.title('Controller behavior analysis')\n",
    "\n",
    "plt.grid()\n",
    "plt.show()"
   ]
  },
  {
   "cell_type": "markdown",
   "metadata": {},
   "source": [
    "## Visualize other graphs"
   ]
  },
  {
   "cell_type": "code",
   "execution_count": null,
   "metadata": {},
   "outputs": [],
   "source": [
    "a= matlab.nyquist(sysPI)\n",
    "plt.title('Nyquist')\n",
    "plt.show()\n",
    "\n",
    "a=matlab.bode(sysPI)\n",
    "plt.title('Bode')\n",
    "plt.show()\n",
    "\n",
    "a = matlab.pole(sysPI)\n",
    "\n",
    "x = []\n",
    "y = []\n",
    "for tmp in a:\n",
    "    x.append(tmp.real)\n",
    "    y.append(tmp.imag)\n",
    "plt.scatter(x, y, c=\"green\", marker = \"o\", label='Plant model')\n",
    "\n",
    "plt.xlabel(\"Real\")\n",
    "plt.ylabel(\"Imaginary\")\n",
    "\n",
    "art = []\n",
    "lgd = plt.legend(bbox_to_anchor=(1.05, 1), loc=2, borderaxespad=0.)\n",
    "art.append(lgd)\n",
    "plt.grid()\n",
    "plt.title('Pole')\n",
    "plt.show()\n",
    "\n",
    "a=matlab.rlocus(sysPI)\n",
    "plt.title('Rloucus')\n",
    "plt.show()"
   ]
  }
 ],
 "metadata": {
  "kernelspec": {
   "display_name": "Python 3",
   "language": "python",
   "name": "python3"
  },
  "language_info": {
   "codemirror_mode": {
    "name": "ipython",
    "version": 3
   },
   "file_extension": ".py",
   "mimetype": "text/x-python",
   "name": "python",
   "nbconvert_exporter": "python",
   "pygments_lexer": "ipython3",
   "version": "3.7.9"
  }
 },
 "nbformat": 4,
 "nbformat_minor": 4
}
