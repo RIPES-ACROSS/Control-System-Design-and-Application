{
 "cells": [
  {
   "cell_type": "markdown",
   "id": "efd18eb3",
   "metadata": {},
   "source": [
    "# 宿題10に対する補足説明"
   ]
  },
  {
   "cell_type": "markdown",
   "id": "d569c221",
   "metadata": {},
   "source": [
    "## モジュール読み込み"
   ]
  },
  {
   "cell_type": "code",
   "execution_count": 1,
   "id": "b2486eda",
   "metadata": {},
   "outputs": [
    {
     "name": "stdout",
     "output_type": "stream",
     "text": [
      "Requirement already satisfied: control in /opt/conda/lib/python3.8/site-packages (0.9.0)\n",
      "Requirement already satisfied: scipy in /opt/conda/lib/python3.8/site-packages (from control) (1.6.2)\n",
      "Requirement already satisfied: numpy in /opt/conda/lib/python3.8/site-packages (from control) (1.20.2)\n",
      "Requirement already satisfied: matplotlib in /opt/conda/lib/python3.8/site-packages (from control) (3.4.1)\n",
      "Requirement already satisfied: cycler>=0.10 in /opt/conda/lib/python3.8/site-packages (from matplotlib->control) (0.10.0)\n",
      "Requirement already satisfied: kiwisolver>=1.0.1 in /opt/conda/lib/python3.8/site-packages (from matplotlib->control) (1.3.1)\n",
      "Requirement already satisfied: pillow>=6.2.0 in /opt/conda/lib/python3.8/site-packages (from matplotlib->control) (8.1.2)\n",
      "Requirement already satisfied: pyparsing>=2.2.1 in /opt/conda/lib/python3.8/site-packages (from matplotlib->control) (2.4.7)\n",
      "Requirement already satisfied: python-dateutil>=2.7 in /opt/conda/lib/python3.8/site-packages (from matplotlib->control) (2.8.1)\n",
      "Requirement already satisfied: six in /opt/conda/lib/python3.8/site-packages (from cycler>=0.10->matplotlib->control) (1.15.0)\n"
     ]
    }
   ],
   "source": [
    "! pip install control\n",
    "from pylab import *\n",
    "import math\n",
    "import cmath\n",
    "import numpy as np\n",
    "import pandas as pd\n",
    "import control\n",
    "import control.matlab as matlab\n",
    "import matplotlib.pyplot as plt\n",
    "%matplotlib inline"
   ]
  },
  {
   "cell_type": "markdown",
   "id": "9888ab1c",
   "metadata": {},
   "source": [
    "## 関数定義"
   ]
  },
  {
   "cell_type": "code",
   "execution_count": 2,
   "id": "ad93964d",
   "metadata": {},
   "outputs": [],
   "source": [
    "def zeta_from_pos(pos):\n",
    "    zeta = -1*math.log(pos/100) / math.sqrt(math.pi**2 + math.log(pos/100)**2)\n",
    "    return zeta"
   ]
  },
  {
   "cell_type": "code",
   "execution_count": 3,
   "id": "7de88374",
   "metadata": {},
   "outputs": [],
   "source": [
    "def phim_from_zeta(zeta):\n",
    "    phim = math.atan(2*zeta/math.sqrt(-2* zeta**2 + math.sqrt(1+4* zeta**4)))\n",
    "    return np.rad2deg(phim)\n"
   ]
  },
  {
   "cell_type": "code",
   "execution_count": 4,
   "id": "79f51a2d",
   "metadata": {},
   "outputs": [],
   "source": [
    "def visualize_step(sys_dict):\n",
    "    TIME_MAX = 20\n",
    "    fig = plt.figure(figsize=(6,5))\n",
    "    ax = fig.add_subplot(1, 1, 1)\n",
    "    plt.plot(list(np.arange(-10, 0+1))+list(np.arange(1, TIME_MAX+1)),\n",
    "             [0]*len(np.arange(-10, 0+1))+[1]*len(np.arange(1, TIME_MAX+1)), \n",
    "             '-.', color='gray', label='Step input')\n",
    "    for i, (label, sys) in enumerate(sys_dict.items()):\n",
    "        output, time_list = matlab.step(sys, arange(0, TIME_MAX, 0.1))\n",
    "        plt.plot(time_list, output, '--', label=label, linewidth=3.0/(i+1))\n",
    "\n",
    "    plt.xlabel('Time second')\n",
    "    plt.ylabel('Response p.u.')\n",
    "    plt.grid()\n",
    "    plt.legend(framealpha=0.1)\n",
    "    plt.show()\n"
   ]
  },
  {
   "cell_type": "code",
   "execution_count": 5,
   "id": "cd37cdb3",
   "metadata": {},
   "outputs": [],
   "source": [
    "def visualize_bode(sys_dict):\n",
    "    res_dict = {}\n",
    "    for label, sys in sys_dict.items():\n",
    "        mag, phase, omega = control.bode(sys, dB=True, label=label)\n",
    "        tmp_df = pd.DataFrame(np.array([np.rad2deg(phase),\n",
    "                                        list(map(lambda v: 20*math.log10(v), mag))]).T,\n",
    "                              index=omega, columns=['phase', 'mag'])\n",
    "        tmp_df.index.name = 'omega'\n",
    "        res_dict[label] = tmp_df.copy()\n",
    "    plt.legend()\n",
    "    plt.show()\n",
    "    return res_dict"
   ]
  },
  {
   "cell_type": "markdown",
   "id": "582612f6",
   "metadata": {},
   "source": [
    "## 開ループ伝達関数定義\n",
    "\n",
    "開ループ(一巡)伝達関数を，ゲイン$K$を除き次の通り定義する．"
   ]
  },
  {
   "cell_type": "code",
   "execution_count": 6,
   "id": "b30a275c",
   "metadata": {},
   "outputs": [
    {
     "data": {
      "text/latex": [
       "$$\\frac{76.32}{s^3 + 151.3 s^2 + 198 s}$$"
      ],
      "text/plain": [
       "TransferFunction(array([76.32]), array([  1.  , 151.32, 198.  ,   0.  ]))"
      ]
     },
     "execution_count": 6,
     "metadata": {},
     "output_type": "execute_result"
    }
   ],
   "source": [
    "s = matlab.TransferFunction.s\n",
    "G_without_gainK = 76.32 / (s*(s+150)*(s+1.32))\n",
    "G_without_gainK"
   ]
  },
  {
   "cell_type": "markdown",
   "id": "84f64b60",
   "metadata": {},
   "source": [
    "## ゲインK=1の場合"
   ]
  },
  {
   "cell_type": "code",
   "execution_count": 7,
   "id": "e63842c4",
   "metadata": {},
   "outputs": [
    {
     "data": {
      "text/plain": [
       "{'K: 1': TransferFunction(array([76.32]), array([  1.  , 151.32, 198.  ,   0.  ]))}"
      ]
     },
     "execution_count": 7,
     "metadata": {},
     "output_type": "execute_result"
    }
   ],
   "source": [
    "sys_dict = {}\n",
    "for K in np.arange(1, 1 + 1, 1e+0):\n",
    "    sys_dict[f'K: {int(K)}'] = G_without_gainK*K\n",
    "sys_dict"
   ]
  },
  {
   "cell_type": "code",
   "execution_count": 8,
   "id": "96ced825",
   "metadata": {},
   "outputs": [
    {
     "data": {
      "image/png": "[encoded data removed]",
      "text/plain": [
       "<Figure size 432x288 with 2 Axes>"
      ]
     },
     "metadata": {
      "needs_background": "light"
     },
     "output_type": "display_data"
    }
   ],
   "source": [
    "res_dict = visualize_bode(sys_dict)"
   ]
  },
  {
   "cell_type": "code",
   "execution_count": 9,
   "id": "d73333f0",
   "metadata": {},
   "outputs": [
    {
     "name": "stdout",
     "output_type": "stream",
     "text": [
      "zeta at 15%OS is  0.517\n",
      "Phi_m at the zeta is  53.172\n",
      "phi at Phi_m is  -126.828\n"
     ]
    }
   ],
   "source": [
    "pos_1 = 15 # 15%OS\n",
    "zeta_1 = zeta_from_pos(pos_1)\n",
    "phim_1 = phim_from_zeta(zeta_1)\n",
    "phi = -1*(180 - phim_1)\n",
    "\n",
    "print('zeta at 15%OS is ', round(zeta_1, 3))\n",
    "print('Phi_m at the zeta is ', round(phim_1, 3))\n",
    "print('phi at Phi_m is ', round(phi, 3))"
   ]
  },
  {
   "cell_type": "code",
   "execution_count": 10,
   "id": "1fcc456d",
   "metadata": {},
   "outputs": [
    {
     "data": {
      "text/html": [
       "<div>\n",
       "<style scoped>\n",
       "    .dataframe tbody tr th:only-of-type {\n",
       "        vertical-align: middle;\n",
       "    }\n",
       "\n",
       "    .dataframe tbody tr th {\n",
       "        vertical-align: top;\n",
       "    }\n",
       "\n",
       "    .dataframe thead th {\n",
       "        text-align: right;\n",
       "    }\n",
       "</style>\n",
       "<table border=\"1\" class=\"dataframe\">\n",
       "  <thead>\n",
       "    <tr style=\"text-align: right;\">\n",
       "      <th></th>\n",
       "      <th>phase</th>\n",
       "      <th>mag</th>\n",
       "    </tr>\n",
       "    <tr>\n",
       "      <th>omega</th>\n",
       "      <th></th>\n",
       "      <th></th>\n",
       "    </tr>\n",
       "  </thead>\n",
       "  <tbody>\n",
       "    <tr>\n",
       "      <th>0.946185</th>\n",
       "      <td>-125.994618</td>\n",
       "      <td>-9.600948</td>\n",
       "    </tr>\n",
       "    <tr>\n",
       "      <th>0.957152</th>\n",
       "      <td>-126.312041</td>\n",
       "      <td>-9.735287</td>\n",
       "    </tr>\n",
       "    <tr>\n",
       "      <th>0.968247</th>\n",
       "      <td>-126.630636</td>\n",
       "      <td>-9.870147</td>\n",
       "    </tr>\n",
       "    <tr>\n",
       "      <th>0.979470</th>\n",
       "      <td>-126.950370</td>\n",
       "      <td>-10.005532</td>\n",
       "    </tr>\n",
       "    <tr>\n",
       "      <th>0.990823</th>\n",
       "      <td>-127.271209</td>\n",
       "      <td>-10.141445</td>\n",
       "    </tr>\n",
       "    <tr>\n",
       "      <th>1.002308</th>\n",
       "      <td>-127.593119</td>\n",
       "      <td>-10.277891</td>\n",
       "    </tr>\n",
       "  </tbody>\n",
       "</table>\n",
       "</div>"
      ],
      "text/plain": [
       "               phase        mag\n",
       "omega                          \n",
       "0.946185 -125.994618  -9.600948\n",
       "0.957152 -126.312041  -9.735287\n",
       "0.968247 -126.630636  -9.870147\n",
       "0.979470 -126.950370 -10.005532\n",
       "0.990823 -127.271209 -10.141445\n",
       "1.002308 -127.593119 -10.277891"
      ]
     },
     "execution_count": 10,
     "metadata": {},
     "output_type": "execute_result"
    }
   ],
   "source": [
    "tmp_df = res_dict['K: 1']\n",
    "EPSILON = 1e-0\n",
    "target_record = tmp_df[(phi - EPSILON <= tmp_df.phase) \n",
    "                       & (tmp_df.phase <= phi + EPSILON)]\n",
    "\n",
    "target_record"
   ]
  },
  {
   "cell_type": "markdown",
   "id": "b85d54e9",
   "metadata": {},
   "source": [
    "## 最小二乗法による線形補間"
   ]
  },
  {
   "cell_type": "code",
   "execution_count": 11,
   "id": "310fa7a0",
   "metadata": {},
   "outputs": [
    {
     "name": "stdout",
     "output_type": "stream",
     "text": [
      "phase = a \\omega +b, a:  -28.482 , b: -99.049\n"
     ]
    }
   ],
   "source": [
    "from sklearn.linear_model import LinearRegression\n",
    "model_omega_phase = LinearRegression()\n",
    "model_omega_phase.fit(target_record.index.to_numpy().reshape(-1, 1), target_record.phase.tolist())\n",
    "print('phase = a \\omega +b, a: ', round(model_omega_phase.coef_[0], 3), ', b:', round(model_omega_phase.intercept_, 3))"
   ]
  },
  {
   "cell_type": "code",
   "execution_count": 12,
   "id": "27f6404e",
   "metadata": {},
   "outputs": [
    {
     "name": "stdout",
     "output_type": "stream",
     "text": [
      "mag = a \\omega +b, a:  -28.482 , b: -99.049\n"
     ]
    }
   ],
   "source": [
    "model_omega_mag = LinearRegression()\n",
    "model_omega_mag.fit(target_record.index.to_numpy().reshape(-1, 1), target_record.mag.tolist())\n",
    "print('mag = a \\omega +b, a: ', round(model_omega_phase.coef_[0], 3), ', b:', round(model_omega_phase.intercept_, 3))"
   ]
  },
  {
   "cell_type": "code",
   "execution_count": 13,
   "id": "cfdf598f",
   "metadata": {},
   "outputs": [
    {
     "name": "stdout",
     "output_type": "stream",
     "text": [
      "omega:  0.975 rad/s\n"
     ]
    }
   ],
   "source": [
    "target_omega = (phi - model_omega_phase.intercept_)/model_omega_phase.coef_[0]\n",
    "print('omega: ', round(target_omega, 3), 'rad/s')"
   ]
  },
  {
   "cell_type": "code",
   "execution_count": 14,
   "id": "ddd700a7",
   "metadata": {},
   "outputs": [
    {
     "name": "stdout",
     "output_type": "stream",
     "text": [
      "M:  -9.954 dB\n"
     ]
    }
   ],
   "source": [
    "target_M = model_omega_mag.coef_[0]*target_omega + model_omega_mag.intercept_\n",
    "print('M: ', round(target_M, 3), 'dB')"
   ]
  },
  {
   "cell_type": "code",
   "execution_count": 15,
   "id": "678e32f9",
   "metadata": {},
   "outputs": [
    {
     "name": "stdout",
     "output_type": "stream",
     "text": [
      "Gain K: 3.146\n"
     ]
    }
   ],
   "source": [
    "MY_K = 10**(-1*target_M/20)\n",
    "         \n",
    "print('Gain K:', round(MY_K, 3))"
   ]
  },
  {
   "cell_type": "code",
   "execution_count": 16,
   "id": "ae44fef2",
   "metadata": {},
   "outputs": [
    {
     "data": {
      "text/latex": [
       "$$\\frac{240.1}{s^3 + 151.3 s^2 + 198 s}$$"
      ],
      "text/plain": [
       "TransferFunction(array([240.06632393]), array([  1.  , 151.32, 198.  ,   0.  ]))"
      ]
     },
     "metadata": {},
     "output_type": "display_data"
    },
    {
     "data": {
      "text/latex": [
       "$$\\frac{76.32}{s^3 + 151.3 s^2 + 198 s}$$"
      ],
      "text/plain": [
       "TransferFunction(array([76.32]), array([  1.  , 151.32, 198.  ,   0.  ]))"
      ]
     },
     "metadata": {},
     "output_type": "display_data"
    },
    {
     "data": {
      "image/png": "[encoded data removed]",
      "text/plain": [
       "<Figure size 432x288 with 2 Axes>"
      ]
     },
     "metadata": {
      "needs_background": "light"
     },
     "output_type": "display_data"
    }
   ],
   "source": [
    "sys_dict = {}\n",
    "for K in [MY_K, 1]:\n",
    "    sys_dict[f'K: {K}'] = G_without_gainK*K\n",
    "    display(sys_dict[list(sys_dict.keys())[-1]])\n",
    "res_dict = visualize_bode(sys_dict)"
   ]
  },
  {
   "cell_type": "code",
   "execution_count": 17,
   "id": "9d84c639",
   "metadata": {},
   "outputs": [
    {
     "data": {
      "text/latex": [
       "$$\\frac{240.1}{s^3 + 151.3 s^2 + 198 s + 240.1}$$"
      ],
      "text/plain": [
       "TransferFunction(array([240.06632393]), array([  1.        , 151.32      , 198.        , 240.06632393]))"
      ]
     },
     "metadata": {},
     "output_type": "display_data"
    },
    {
     "data": {
      "image/png": "[encoded data removed]",
      "text/plain": [
       "<Figure size 432x360 with 1 Axes>"
      ]
     },
     "metadata": {
      "needs_background": "light"
     },
     "output_type": "display_data"
    }
   ],
   "source": [
    "sys_dict = {}\n",
    "for K in [MY_K]:\n",
    "    sys_dict[f'K: {K}'] = matlab.feedback(G_without_gainK*K, 1)\n",
    "    display(sys_dict[list(sys_dict.keys())[-1]])\n",
    "visualize_step(sys_dict)"
   ]
  }
 ],
 "metadata": {
  "kernelspec": {
   "display_name": "Python 3",
   "language": "python",
   "name": "python3"
  },
  "language_info": {
   "codemirror_mode": {
    "name": "ipython",
    "version": 3
   },
   "file_extension": ".py",
   "mimetype": "text/x-python",
   "name": "python",
   "nbconvert_exporter": "python",
   "pygments_lexer": "ipython3",
   "version": "3.8.8"
  }
 },
 "nbformat": 4,
 "nbformat_minor": 5
}
